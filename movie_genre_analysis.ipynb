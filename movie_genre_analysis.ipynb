{
  "nbformat": 4,
  "nbformat_minor": 0,
  "metadata": {
    "colab": {
      "name": "movie_genre_analysis",
      "provenance": []
    },
    "kernelspec": {
      "name": "python3",
      "display_name": "Python 3"
    },
    "language_info": {
      "name": "python"
    }
  },
  "cells": [
    {
      "cell_type": "markdown",
      "source": [
        "# importing libraries"
      ],
      "metadata": {
        "id": "UNCx1WGANYAT"
      }
    },
    {
      "cell_type": "code",
      "execution_count": null,
      "metadata": {
        "id": "i7kPbGa2LbqE"
      },
      "outputs": [],
      "source": [
        "#utilities\n",
        "import re\n",
        "import numpy as np\n",
        "import pandas as pd\n",
        "\n",
        "#plotting\n",
        "import seaborn as sns\n",
        "from wordcloud import WordCloud, STOPWORDS\n",
        "import matplotlib.pyplot as plt\n",
        "\n",
        "#nltk\n",
        "from nltk.stem import WordNetLemmatizer\n",
        "\n",
        "#sklearn\n",
        "from sklearn.svm import LinearSVC\n",
        "from sklearn.naive_bayes import BernoulliNB\n",
        "from sklearn.linear_model import LogisticRegression\n",
        "from sklearn.model_selection import train_test_split\n",
        "from sklearn.feature_extraction.text import TfidfVectorizer\n",
        "from sklearn.metrics import confusion_matrix, classification_report"
      ]
    },
    {
      "cell_type": "code",
      "source": [
        "tweet = pd.read_csv(\"hotstar.csv\")"
      ],
      "metadata": {
        "id": "UMnoZXsJPz8i"
      },
      "execution_count": null,
      "outputs": []
    },
    {
      "cell_type": "markdown",
      "source": [
        "# summarizing the data"
      ],
      "metadata": {
        "id": "g7o-hn1MSkTc"
      }
    },
    {
      "cell_type": "code",
      "source": [
        "tweet.head()"
      ],
      "metadata": {
        "colab": {
          "base_uri": "https://localhost:8080/",
          "height": 337
        },
        "id": "igMnO4A_Sf-t",
        "outputId": "f31de631-4746-4392-e933-6410cd32190e"
      },
      "execution_count": null,
      "outputs": [
        {
          "output_type": "execute_result",
          "data": {
            "text/plain": [
              "   hotstar_id                                           title  \\\n",
              "0  1835064133                                        The Ring   \n",
              "1  1260015636  Jesus: Rise To Power And Birth Of Christianity   \n",
              "2  1000070418                                     Yama Muduru   \n",
              "3  1770000804                           X-Men: The Last Stand   \n",
              "4  1770005017             Mangalyaan: India's Mission To Mars   \n",
              "\n",
              "                                         description        genre  year  \\\n",
              "0  Mutually divorced Aman emotionally struggles t...        Drama  2021   \n",
              "1  A journey across the historic landscapes of th...  Documentary  2019   \n",
              "2  Krishna Kumar is popular in college for his mu...        Drama  2009   \n",
              "3  When humans find a cure for mutation, Professo...    Superhero  2006   \n",
              "4  In this special, watch the 650 million km jour...  Documentary  2017   \n",
              "\n",
              "  age_rating  running_time  seasons  episodes   type  \n",
              "0    U/A 13+          17.0      NaN       NaN  movie  \n",
              "1    U/A 13+          42.0      NaN       NaN  movie  \n",
              "2    U/A 13+         129.0      NaN       NaN  movie  \n",
              "3    U/A 13+         103.0      NaN       NaN  movie  \n",
              "4          U          44.0      NaN       NaN  movie  "
            ],
            "text/html": [
              "\n",
              "  <div id=\"df-ba4c5df9-7768-46b5-8f9b-60a45243c878\">\n",
              "    <div class=\"colab-df-container\">\n",
              "      <div>\n",
              "<style scoped>\n",
              "    .dataframe tbody tr th:only-of-type {\n",
              "        vertical-align: middle;\n",
              "    }\n",
              "\n",
              "    .dataframe tbody tr th {\n",
              "        vertical-align: top;\n",
              "    }\n",
              "\n",
              "    .dataframe thead th {\n",
              "        text-align: right;\n",
              "    }\n",
              "</style>\n",
              "<table border=\"1\" class=\"dataframe\">\n",
              "  <thead>\n",
              "    <tr style=\"text-align: right;\">\n",
              "      <th></th>\n",
              "      <th>hotstar_id</th>\n",
              "      <th>title</th>\n",
              "      <th>description</th>\n",
              "      <th>genre</th>\n",
              "      <th>year</th>\n",
              "      <th>age_rating</th>\n",
              "      <th>running_time</th>\n",
              "      <th>seasons</th>\n",
              "      <th>episodes</th>\n",
              "      <th>type</th>\n",
              "    </tr>\n",
              "  </thead>\n",
              "  <tbody>\n",
              "    <tr>\n",
              "      <th>0</th>\n",
              "      <td>1835064133</td>\n",
              "      <td>The Ring</td>\n",
              "      <td>Mutually divorced Aman emotionally struggles t...</td>\n",
              "      <td>Drama</td>\n",
              "      <td>2021</td>\n",
              "      <td>U/A 13+</td>\n",
              "      <td>17.0</td>\n",
              "      <td>NaN</td>\n",
              "      <td>NaN</td>\n",
              "      <td>movie</td>\n",
              "    </tr>\n",
              "    <tr>\n",
              "      <th>1</th>\n",
              "      <td>1260015636</td>\n",
              "      <td>Jesus: Rise To Power And Birth Of Christianity</td>\n",
              "      <td>A journey across the historic landscapes of th...</td>\n",
              "      <td>Documentary</td>\n",
              "      <td>2019</td>\n",
              "      <td>U/A 13+</td>\n",
              "      <td>42.0</td>\n",
              "      <td>NaN</td>\n",
              "      <td>NaN</td>\n",
              "      <td>movie</td>\n",
              "    </tr>\n",
              "    <tr>\n",
              "      <th>2</th>\n",
              "      <td>1000070418</td>\n",
              "      <td>Yama Muduru</td>\n",
              "      <td>Krishna Kumar is popular in college for his mu...</td>\n",
              "      <td>Drama</td>\n",
              "      <td>2009</td>\n",
              "      <td>U/A 13+</td>\n",
              "      <td>129.0</td>\n",
              "      <td>NaN</td>\n",
              "      <td>NaN</td>\n",
              "      <td>movie</td>\n",
              "    </tr>\n",
              "    <tr>\n",
              "      <th>3</th>\n",
              "      <td>1770000804</td>\n",
              "      <td>X-Men: The Last Stand</td>\n",
              "      <td>When humans find a cure for mutation, Professo...</td>\n",
              "      <td>Superhero</td>\n",
              "      <td>2006</td>\n",
              "      <td>U/A 13+</td>\n",
              "      <td>103.0</td>\n",
              "      <td>NaN</td>\n",
              "      <td>NaN</td>\n",
              "      <td>movie</td>\n",
              "    </tr>\n",
              "    <tr>\n",
              "      <th>4</th>\n",
              "      <td>1770005017</td>\n",
              "      <td>Mangalyaan: India's Mission To Mars</td>\n",
              "      <td>In this special, watch the 650 million km jour...</td>\n",
              "      <td>Documentary</td>\n",
              "      <td>2017</td>\n",
              "      <td>U</td>\n",
              "      <td>44.0</td>\n",
              "      <td>NaN</td>\n",
              "      <td>NaN</td>\n",
              "      <td>movie</td>\n",
              "    </tr>\n",
              "  </tbody>\n",
              "</table>\n",
              "</div>\n",
              "      <button class=\"colab-df-convert\" onclick=\"convertToInteractive('df-ba4c5df9-7768-46b5-8f9b-60a45243c878')\"\n",
              "              title=\"Convert this dataframe to an interactive table.\"\n",
              "              style=\"display:none;\">\n",
              "        \n",
              "  <svg xmlns=\"http://www.w3.org/2000/svg\" height=\"24px\"viewBox=\"0 0 24 24\"\n",
              "       width=\"24px\">\n",
              "    <path d=\"M0 0h24v24H0V0z\" fill=\"none\"/>\n",
              "    <path d=\"M18.56 5.44l.94 2.06.94-2.06 2.06-.94-2.06-.94-.94-2.06-.94 2.06-2.06.94zm-11 1L8.5 8.5l.94-2.06 2.06-.94-2.06-.94L8.5 2.5l-.94 2.06-2.06.94zm10 10l.94 2.06.94-2.06 2.06-.94-2.06-.94-.94-2.06-.94 2.06-2.06.94z\"/><path d=\"M17.41 7.96l-1.37-1.37c-.4-.4-.92-.59-1.43-.59-.52 0-1.04.2-1.43.59L10.3 9.45l-7.72 7.72c-.78.78-.78 2.05 0 2.83L4 21.41c.39.39.9.59 1.41.59.51 0 1.02-.2 1.41-.59l7.78-7.78 2.81-2.81c.8-.78.8-2.07 0-2.86zM5.41 20L4 18.59l7.72-7.72 1.47 1.35L5.41 20z\"/>\n",
              "  </svg>\n",
              "      </button>\n",
              "      \n",
              "  <style>\n",
              "    .colab-df-container {\n",
              "      display:flex;\n",
              "      flex-wrap:wrap;\n",
              "      gap: 12px;\n",
              "    }\n",
              "\n",
              "    .colab-df-convert {\n",
              "      background-color: #E8F0FE;\n",
              "      border: none;\n",
              "      border-radius: 50%;\n",
              "      cursor: pointer;\n",
              "      display: none;\n",
              "      fill: #1967D2;\n",
              "      height: 32px;\n",
              "      padding: 0 0 0 0;\n",
              "      width: 32px;\n",
              "    }\n",
              "\n",
              "    .colab-df-convert:hover {\n",
              "      background-color: #E2EBFA;\n",
              "      box-shadow: 0px 1px 2px rgba(60, 64, 67, 0.3), 0px 1px 3px 1px rgba(60, 64, 67, 0.15);\n",
              "      fill: #174EA6;\n",
              "    }\n",
              "\n",
              "    [theme=dark] .colab-df-convert {\n",
              "      background-color: #3B4455;\n",
              "      fill: #D2E3FC;\n",
              "    }\n",
              "\n",
              "    [theme=dark] .colab-df-convert:hover {\n",
              "      background-color: #434B5C;\n",
              "      box-shadow: 0px 1px 3px 1px rgba(0, 0, 0, 0.15);\n",
              "      filter: drop-shadow(0px 1px 2px rgba(0, 0, 0, 0.3));\n",
              "      fill: #FFFFFF;\n",
              "    }\n",
              "  </style>\n",
              "\n",
              "      <script>\n",
              "        const buttonEl =\n",
              "          document.querySelector('#df-ba4c5df9-7768-46b5-8f9b-60a45243c878 button.colab-df-convert');\n",
              "        buttonEl.style.display =\n",
              "          google.colab.kernel.accessAllowed ? 'block' : 'none';\n",
              "\n",
              "        async function convertToInteractive(key) {\n",
              "          const element = document.querySelector('#df-ba4c5df9-7768-46b5-8f9b-60a45243c878');\n",
              "          const dataTable =\n",
              "            await google.colab.kernel.invokeFunction('convertToInteractive',\n",
              "                                                     [key], {});\n",
              "          if (!dataTable) return;\n",
              "\n",
              "          const docLinkHtml = 'Like what you see? Visit the ' +\n",
              "            '<a target=\"_blank\" href=https://colab.research.google.com/notebooks/data_table.ipynb>data table notebook</a>'\n",
              "            + ' to learn more about interactive tables.';\n",
              "          element.innerHTML = '';\n",
              "          dataTable['output_type'] = 'display_data';\n",
              "          await google.colab.output.renderOutput(dataTable, element);\n",
              "          const docLink = document.createElement('div');\n",
              "          docLink.innerHTML = docLinkHtml;\n",
              "          element.appendChild(docLink);\n",
              "        }\n",
              "      </script>\n",
              "    </div>\n",
              "  </div>\n",
              "  "
            ]
          },
          "metadata": {},
          "execution_count": 8
        }
      ]
    },
    {
      "cell_type": "code",
      "source": [
        "tweet.tail()"
      ],
      "metadata": {
        "colab": {
          "base_uri": "https://localhost:8080/",
          "height": 320
        },
        "id": "FqUUlcCASqoc",
        "outputId": "d1114862-d3c8-46c0-ce74-d992683eca42"
      },
      "execution_count": null,
      "outputs": [
        {
          "output_type": "execute_result",
          "data": {
            "text/plain": [
              "      hotstar_id                         title  \\\n",
              "6354       18211   MS Dhoni - Reimagined Hindi   \n",
              "6355  1260063600                      Sasneham   \n",
              "6356  1260071152          Bolo Ambe Maa Ki Jai   \n",
              "6357  1260002656  Ambi Ning Vaisaytho Specials   \n",
              "6358  1260003179          Dil Toh Happy Hai Ji   \n",
              "\n",
              "                                            description      genre  year  \\\n",
              "6354  MS Dhoni's career reimagined, watch streaming ...      Sport  2018   \n",
              "6355  An old-age home reunites past lovers Indira an...      Drama  2021   \n",
              "6356  Narrated by Saptarishi, celebrate Navratri wit...  Mythology  2021   \n",
              "6357  Catch all the fun, gossips, and anecdotes from...    Reality  2018   \n",
              "6358  Based in Amritsar, this is a joyful tale of fr...      Drama  2019   \n",
              "\n",
              "     age_rating  running_time  seasons  episodes type  \n",
              "6354    U/A 13+           NaN      1.0       1.0   tv  \n",
              "6355    U/A 13+           NaN      1.0     345.0   tv  \n",
              "6356    U/A 13+           NaN      1.0       5.0   tv  \n",
              "6357          G           NaN      1.0       1.0   tv  \n",
              "6358    U/A 13+           NaN      1.0     148.0   tv  "
            ],
            "text/html": [
              "\n",
              "  <div id=\"df-598a98e8-7c81-4d6b-8d58-8c1c2a340ad4\">\n",
              "    <div class=\"colab-df-container\">\n",
              "      <div>\n",
              "<style scoped>\n",
              "    .dataframe tbody tr th:only-of-type {\n",
              "        vertical-align: middle;\n",
              "    }\n",
              "\n",
              "    .dataframe tbody tr th {\n",
              "        vertical-align: top;\n",
              "    }\n",
              "\n",
              "    .dataframe thead th {\n",
              "        text-align: right;\n",
              "    }\n",
              "</style>\n",
              "<table border=\"1\" class=\"dataframe\">\n",
              "  <thead>\n",
              "    <tr style=\"text-align: right;\">\n",
              "      <th></th>\n",
              "      <th>hotstar_id</th>\n",
              "      <th>title</th>\n",
              "      <th>description</th>\n",
              "      <th>genre</th>\n",
              "      <th>year</th>\n",
              "      <th>age_rating</th>\n",
              "      <th>running_time</th>\n",
              "      <th>seasons</th>\n",
              "      <th>episodes</th>\n",
              "      <th>type</th>\n",
              "    </tr>\n",
              "  </thead>\n",
              "  <tbody>\n",
              "    <tr>\n",
              "      <th>6354</th>\n",
              "      <td>18211</td>\n",
              "      <td>MS Dhoni - Reimagined Hindi</td>\n",
              "      <td>MS Dhoni's career reimagined, watch streaming ...</td>\n",
              "      <td>Sport</td>\n",
              "      <td>2018</td>\n",
              "      <td>U/A 13+</td>\n",
              "      <td>NaN</td>\n",
              "      <td>1.0</td>\n",
              "      <td>1.0</td>\n",
              "      <td>tv</td>\n",
              "    </tr>\n",
              "    <tr>\n",
              "      <th>6355</th>\n",
              "      <td>1260063600</td>\n",
              "      <td>Sasneham</td>\n",
              "      <td>An old-age home reunites past lovers Indira an...</td>\n",
              "      <td>Drama</td>\n",
              "      <td>2021</td>\n",
              "      <td>U/A 13+</td>\n",
              "      <td>NaN</td>\n",
              "      <td>1.0</td>\n",
              "      <td>345.0</td>\n",
              "      <td>tv</td>\n",
              "    </tr>\n",
              "    <tr>\n",
              "      <th>6356</th>\n",
              "      <td>1260071152</td>\n",
              "      <td>Bolo Ambe Maa Ki Jai</td>\n",
              "      <td>Narrated by Saptarishi, celebrate Navratri wit...</td>\n",
              "      <td>Mythology</td>\n",
              "      <td>2021</td>\n",
              "      <td>U/A 13+</td>\n",
              "      <td>NaN</td>\n",
              "      <td>1.0</td>\n",
              "      <td>5.0</td>\n",
              "      <td>tv</td>\n",
              "    </tr>\n",
              "    <tr>\n",
              "      <th>6357</th>\n",
              "      <td>1260002656</td>\n",
              "      <td>Ambi Ning Vaisaytho Specials</td>\n",
              "      <td>Catch all the fun, gossips, and anecdotes from...</td>\n",
              "      <td>Reality</td>\n",
              "      <td>2018</td>\n",
              "      <td>G</td>\n",
              "      <td>NaN</td>\n",
              "      <td>1.0</td>\n",
              "      <td>1.0</td>\n",
              "      <td>tv</td>\n",
              "    </tr>\n",
              "    <tr>\n",
              "      <th>6358</th>\n",
              "      <td>1260003179</td>\n",
              "      <td>Dil Toh Happy Hai Ji</td>\n",
              "      <td>Based in Amritsar, this is a joyful tale of fr...</td>\n",
              "      <td>Drama</td>\n",
              "      <td>2019</td>\n",
              "      <td>U/A 13+</td>\n",
              "      <td>NaN</td>\n",
              "      <td>1.0</td>\n",
              "      <td>148.0</td>\n",
              "      <td>tv</td>\n",
              "    </tr>\n",
              "  </tbody>\n",
              "</table>\n",
              "</div>\n",
              "      <button class=\"colab-df-convert\" onclick=\"convertToInteractive('df-598a98e8-7c81-4d6b-8d58-8c1c2a340ad4')\"\n",
              "              title=\"Convert this dataframe to an interactive table.\"\n",
              "              style=\"display:none;\">\n",
              "        \n",
              "  <svg xmlns=\"http://www.w3.org/2000/svg\" height=\"24px\"viewBox=\"0 0 24 24\"\n",
              "       width=\"24px\">\n",
              "    <path d=\"M0 0h24v24H0V0z\" fill=\"none\"/>\n",
              "    <path d=\"M18.56 5.44l.94 2.06.94-2.06 2.06-.94-2.06-.94-.94-2.06-.94 2.06-2.06.94zm-11 1L8.5 8.5l.94-2.06 2.06-.94-2.06-.94L8.5 2.5l-.94 2.06-2.06.94zm10 10l.94 2.06.94-2.06 2.06-.94-2.06-.94-.94-2.06-.94 2.06-2.06.94z\"/><path d=\"M17.41 7.96l-1.37-1.37c-.4-.4-.92-.59-1.43-.59-.52 0-1.04.2-1.43.59L10.3 9.45l-7.72 7.72c-.78.78-.78 2.05 0 2.83L4 21.41c.39.39.9.59 1.41.59.51 0 1.02-.2 1.41-.59l7.78-7.78 2.81-2.81c.8-.78.8-2.07 0-2.86zM5.41 20L4 18.59l7.72-7.72 1.47 1.35L5.41 20z\"/>\n",
              "  </svg>\n",
              "      </button>\n",
              "      \n",
              "  <style>\n",
              "    .colab-df-container {\n",
              "      display:flex;\n",
              "      flex-wrap:wrap;\n",
              "      gap: 12px;\n",
              "    }\n",
              "\n",
              "    .colab-df-convert {\n",
              "      background-color: #E8F0FE;\n",
              "      border: none;\n",
              "      border-radius: 50%;\n",
              "      cursor: pointer;\n",
              "      display: none;\n",
              "      fill: #1967D2;\n",
              "      height: 32px;\n",
              "      padding: 0 0 0 0;\n",
              "      width: 32px;\n",
              "    }\n",
              "\n",
              "    .colab-df-convert:hover {\n",
              "      background-color: #E2EBFA;\n",
              "      box-shadow: 0px 1px 2px rgba(60, 64, 67, 0.3), 0px 1px 3px 1px rgba(60, 64, 67, 0.15);\n",
              "      fill: #174EA6;\n",
              "    }\n",
              "\n",
              "    [theme=dark] .colab-df-convert {\n",
              "      background-color: #3B4455;\n",
              "      fill: #D2E3FC;\n",
              "    }\n",
              "\n",
              "    [theme=dark] .colab-df-convert:hover {\n",
              "      background-color: #434B5C;\n",
              "      box-shadow: 0px 1px 3px 1px rgba(0, 0, 0, 0.15);\n",
              "      filter: drop-shadow(0px 1px 2px rgba(0, 0, 0, 0.3));\n",
              "      fill: #FFFFFF;\n",
              "    }\n",
              "  </style>\n",
              "\n",
              "      <script>\n",
              "        const buttonEl =\n",
              "          document.querySelector('#df-598a98e8-7c81-4d6b-8d58-8c1c2a340ad4 button.colab-df-convert');\n",
              "        buttonEl.style.display =\n",
              "          google.colab.kernel.accessAllowed ? 'block' : 'none';\n",
              "\n",
              "        async function convertToInteractive(key) {\n",
              "          const element = document.querySelector('#df-598a98e8-7c81-4d6b-8d58-8c1c2a340ad4');\n",
              "          const dataTable =\n",
              "            await google.colab.kernel.invokeFunction('convertToInteractive',\n",
              "                                                     [key], {});\n",
              "          if (!dataTable) return;\n",
              "\n",
              "          const docLinkHtml = 'Like what you see? Visit the ' +\n",
              "            '<a target=\"_blank\" href=https://colab.research.google.com/notebooks/data_table.ipynb>data table notebook</a>'\n",
              "            + ' to learn more about interactive tables.';\n",
              "          element.innerHTML = '';\n",
              "          dataTable['output_type'] = 'display_data';\n",
              "          await google.colab.output.renderOutput(dataTable, element);\n",
              "          const docLink = document.createElement('div');\n",
              "          docLink.innerHTML = docLinkHtml;\n",
              "          element.appendChild(docLink);\n",
              "        }\n",
              "      </script>\n",
              "    </div>\n",
              "  </div>\n",
              "  "
            ]
          },
          "metadata": {},
          "execution_count": 9
        }
      ]
    },
    {
      "cell_type": "code",
      "source": [
        "print('length of data is', len(tweet))"
      ],
      "metadata": {
        "colab": {
          "base_uri": "https://localhost:8080/"
        },
        "id": "93zkdhWiTTUf",
        "outputId": "7e730c60-4f4e-4cb0-f5cb-102257ba6784"
      },
      "execution_count": null,
      "outputs": [
        {
          "output_type": "stream",
          "name": "stdout",
          "text": [
            "length of data is 6359\n"
          ]
        }
      ]
    },
    {
      "cell_type": "code",
      "source": [
        "tweet.shape"
      ],
      "metadata": {
        "colab": {
          "base_uri": "https://localhost:8080/"
        },
        "id": "gOKSrdUFTj4P",
        "outputId": "ddf8de01-df03-4f1c-e530-a2f6942c45f9"
      },
      "execution_count": null,
      "outputs": [
        {
          "output_type": "execute_result",
          "data": {
            "text/plain": [
              "(6359, 10)"
            ]
          },
          "metadata": {},
          "execution_count": 16
        }
      ]
    },
    {
      "cell_type": "code",
      "source": [
        "tweet.columns"
      ],
      "metadata": {
        "colab": {
          "base_uri": "https://localhost:8080/"
        },
        "id": "GBAWaQLOTBpa",
        "outputId": "ac318247-fc10-4b80-c597-6570c14bfb10"
      },
      "execution_count": null,
      "outputs": [
        {
          "output_type": "execute_result",
          "data": {
            "text/plain": [
              "Index(['hotstar_id', 'title', 'description', 'genre', 'year', 'age_rating',\n",
              "       'running_time', 'seasons', 'episodes', 'type'],\n",
              "      dtype='object')"
            ]
          },
          "metadata": {},
          "execution_count": 14
        }
      ]
    },
    {
      "cell_type": "code",
      "source": [
        "tweet.info()"
      ],
      "metadata": {
        "colab": {
          "base_uri": "https://localhost:8080/"
        },
        "id": "XkBcjVKiSuf6",
        "outputId": "58d5016c-6a79-4340-df81-46386d1ede3c"
      },
      "execution_count": null,
      "outputs": [
        {
          "output_type": "stream",
          "name": "stdout",
          "text": [
            "<class 'pandas.core.frame.DataFrame'>\n",
            "RangeIndex: 6359 entries, 0 to 6358\n",
            "Data columns (total 10 columns):\n",
            " #   Column        Non-Null Count  Dtype  \n",
            "---  ------        --------------  -----  \n",
            " 0   hotstar_id    6359 non-null   int64  \n",
            " 1   title         6359 non-null   object \n",
            " 2   description   6359 non-null   object \n",
            " 3   genre         6359 non-null   object \n",
            " 4   year          6359 non-null   int64  \n",
            " 5   age_rating    6359 non-null   object \n",
            " 6   running_time  4188 non-null   float64\n",
            " 7   seasons       2171 non-null   float64\n",
            " 8   episodes      2171 non-null   float64\n",
            " 9   type          6359 non-null   object \n",
            "dtypes: float64(3), int64(2), object(5)\n",
            "memory usage: 496.9+ KB\n"
          ]
        }
      ]
    },
    {
      "cell_type": "code",
      "source": [
        "tweet.describe()"
      ],
      "metadata": {
        "colab": {
          "base_uri": "https://localhost:8080/",
          "height": 300
        },
        "id": "QH5EGvBgSxX7",
        "outputId": "e57072da-f26a-4e39-bd7e-5ddc09a94842"
      },
      "execution_count": null,
      "outputs": [
        {
          "output_type": "execute_result",
          "data": {
            "text/plain": [
              "         hotstar_id         year  running_time      seasons     episodes\n",
              "count  6.359000e+03  6359.000000   4188.000000  2171.000000  2171.000000\n",
              "mean   1.040192e+09  2010.908162    104.016476     2.744357   126.118839\n",
              "std    4.977201e+08    12.025939     45.989765     5.065703   253.941213\n",
              "min    3.000000e+00  1928.000000      1.000000     1.000000     1.000000\n",
              "25%    1.000070e+09  2008.000000     87.000000     1.000000     6.000000\n",
              "50%    1.000239e+09  2015.000000    119.000000     1.000000    24.000000\n",
              "75%    1.260061e+09  2019.000000    136.000000     2.000000   131.500000\n",
              "max    1.837059e+09  2022.000000    199.000000    73.000000  3792.000000"
            ],
            "text/html": [
              "\n",
              "  <div id=\"df-b40b1918-40e3-46c6-8af0-e51f5c7023e8\">\n",
              "    <div class=\"colab-df-container\">\n",
              "      <div>\n",
              "<style scoped>\n",
              "    .dataframe tbody tr th:only-of-type {\n",
              "        vertical-align: middle;\n",
              "    }\n",
              "\n",
              "    .dataframe tbody tr th {\n",
              "        vertical-align: top;\n",
              "    }\n",
              "\n",
              "    .dataframe thead th {\n",
              "        text-align: right;\n",
              "    }\n",
              "</style>\n",
              "<table border=\"1\" class=\"dataframe\">\n",
              "  <thead>\n",
              "    <tr style=\"text-align: right;\">\n",
              "      <th></th>\n",
              "      <th>hotstar_id</th>\n",
              "      <th>year</th>\n",
              "      <th>running_time</th>\n",
              "      <th>seasons</th>\n",
              "      <th>episodes</th>\n",
              "    </tr>\n",
              "  </thead>\n",
              "  <tbody>\n",
              "    <tr>\n",
              "      <th>count</th>\n",
              "      <td>6.359000e+03</td>\n",
              "      <td>6359.000000</td>\n",
              "      <td>4188.000000</td>\n",
              "      <td>2171.000000</td>\n",
              "      <td>2171.000000</td>\n",
              "    </tr>\n",
              "    <tr>\n",
              "      <th>mean</th>\n",
              "      <td>1.040192e+09</td>\n",
              "      <td>2010.908162</td>\n",
              "      <td>104.016476</td>\n",
              "      <td>2.744357</td>\n",
              "      <td>126.118839</td>\n",
              "    </tr>\n",
              "    <tr>\n",
              "      <th>std</th>\n",
              "      <td>4.977201e+08</td>\n",
              "      <td>12.025939</td>\n",
              "      <td>45.989765</td>\n",
              "      <td>5.065703</td>\n",
              "      <td>253.941213</td>\n",
              "    </tr>\n",
              "    <tr>\n",
              "      <th>min</th>\n",
              "      <td>3.000000e+00</td>\n",
              "      <td>1928.000000</td>\n",
              "      <td>1.000000</td>\n",
              "      <td>1.000000</td>\n",
              "      <td>1.000000</td>\n",
              "    </tr>\n",
              "    <tr>\n",
              "      <th>25%</th>\n",
              "      <td>1.000070e+09</td>\n",
              "      <td>2008.000000</td>\n",
              "      <td>87.000000</td>\n",
              "      <td>1.000000</td>\n",
              "      <td>6.000000</td>\n",
              "    </tr>\n",
              "    <tr>\n",
              "      <th>50%</th>\n",
              "      <td>1.000239e+09</td>\n",
              "      <td>2015.000000</td>\n",
              "      <td>119.000000</td>\n",
              "      <td>1.000000</td>\n",
              "      <td>24.000000</td>\n",
              "    </tr>\n",
              "    <tr>\n",
              "      <th>75%</th>\n",
              "      <td>1.260061e+09</td>\n",
              "      <td>2019.000000</td>\n",
              "      <td>136.000000</td>\n",
              "      <td>2.000000</td>\n",
              "      <td>131.500000</td>\n",
              "    </tr>\n",
              "    <tr>\n",
              "      <th>max</th>\n",
              "      <td>1.837059e+09</td>\n",
              "      <td>2022.000000</td>\n",
              "      <td>199.000000</td>\n",
              "      <td>73.000000</td>\n",
              "      <td>3792.000000</td>\n",
              "    </tr>\n",
              "  </tbody>\n",
              "</table>\n",
              "</div>\n",
              "      <button class=\"colab-df-convert\" onclick=\"convertToInteractive('df-b40b1918-40e3-46c6-8af0-e51f5c7023e8')\"\n",
              "              title=\"Convert this dataframe to an interactive table.\"\n",
              "              style=\"display:none;\">\n",
              "        \n",
              "  <svg xmlns=\"http://www.w3.org/2000/svg\" height=\"24px\"viewBox=\"0 0 24 24\"\n",
              "       width=\"24px\">\n",
              "    <path d=\"M0 0h24v24H0V0z\" fill=\"none\"/>\n",
              "    <path d=\"M18.56 5.44l.94 2.06.94-2.06 2.06-.94-2.06-.94-.94-2.06-.94 2.06-2.06.94zm-11 1L8.5 8.5l.94-2.06 2.06-.94-2.06-.94L8.5 2.5l-.94 2.06-2.06.94zm10 10l.94 2.06.94-2.06 2.06-.94-2.06-.94-.94-2.06-.94 2.06-2.06.94z\"/><path d=\"M17.41 7.96l-1.37-1.37c-.4-.4-.92-.59-1.43-.59-.52 0-1.04.2-1.43.59L10.3 9.45l-7.72 7.72c-.78.78-.78 2.05 0 2.83L4 21.41c.39.39.9.59 1.41.59.51 0 1.02-.2 1.41-.59l7.78-7.78 2.81-2.81c.8-.78.8-2.07 0-2.86zM5.41 20L4 18.59l7.72-7.72 1.47 1.35L5.41 20z\"/>\n",
              "  </svg>\n",
              "      </button>\n",
              "      \n",
              "  <style>\n",
              "    .colab-df-container {\n",
              "      display:flex;\n",
              "      flex-wrap:wrap;\n",
              "      gap: 12px;\n",
              "    }\n",
              "\n",
              "    .colab-df-convert {\n",
              "      background-color: #E8F0FE;\n",
              "      border: none;\n",
              "      border-radius: 50%;\n",
              "      cursor: pointer;\n",
              "      display: none;\n",
              "      fill: #1967D2;\n",
              "      height: 32px;\n",
              "      padding: 0 0 0 0;\n",
              "      width: 32px;\n",
              "    }\n",
              "\n",
              "    .colab-df-convert:hover {\n",
              "      background-color: #E2EBFA;\n",
              "      box-shadow: 0px 1px 2px rgba(60, 64, 67, 0.3), 0px 1px 3px 1px rgba(60, 64, 67, 0.15);\n",
              "      fill: #174EA6;\n",
              "    }\n",
              "\n",
              "    [theme=dark] .colab-df-convert {\n",
              "      background-color: #3B4455;\n",
              "      fill: #D2E3FC;\n",
              "    }\n",
              "\n",
              "    [theme=dark] .colab-df-convert:hover {\n",
              "      background-color: #434B5C;\n",
              "      box-shadow: 0px 1px 3px 1px rgba(0, 0, 0, 0.15);\n",
              "      filter: drop-shadow(0px 1px 2px rgba(0, 0, 0, 0.3));\n",
              "      fill: #FFFFFF;\n",
              "    }\n",
              "  </style>\n",
              "\n",
              "      <script>\n",
              "        const buttonEl =\n",
              "          document.querySelector('#df-b40b1918-40e3-46c6-8af0-e51f5c7023e8 button.colab-df-convert');\n",
              "        buttonEl.style.display =\n",
              "          google.colab.kernel.accessAllowed ? 'block' : 'none';\n",
              "\n",
              "        async function convertToInteractive(key) {\n",
              "          const element = document.querySelector('#df-b40b1918-40e3-46c6-8af0-e51f5c7023e8');\n",
              "          const dataTable =\n",
              "            await google.colab.kernel.invokeFunction('convertToInteractive',\n",
              "                                                     [key], {});\n",
              "          if (!dataTable) return;\n",
              "\n",
              "          const docLinkHtml = 'Like what you see? Visit the ' +\n",
              "            '<a target=\"_blank\" href=https://colab.research.google.com/notebooks/data_table.ipynb>data table notebook</a>'\n",
              "            + ' to learn more about interactive tables.';\n",
              "          element.innerHTML = '';\n",
              "          dataTable['output_type'] = 'display_data';\n",
              "          await google.colab.output.renderOutput(dataTable, element);\n",
              "          const docLink = document.createElement('div');\n",
              "          docLink.innerHTML = docLinkHtml;\n",
              "          element.appendChild(docLink);\n",
              "        }\n",
              "      </script>\n",
              "    </div>\n",
              "  </div>\n",
              "  "
            ]
          },
          "metadata": {},
          "execution_count": 11
        }
      ]
    },
    {
      "cell_type": "code",
      "source": [
        "tweet.dtypes"
      ],
      "metadata": {
        "colab": {
          "base_uri": "https://localhost:8080/"
        },
        "id": "nydYVD2MT2wY",
        "outputId": "885cd070-590e-43ed-a1be-ae6110dde422"
      },
      "execution_count": null,
      "outputs": [
        {
          "output_type": "execute_result",
          "data": {
            "text/plain": [
              "hotstar_id        int64\n",
              "title            object\n",
              "description      object\n",
              "genre            object\n",
              "year              int64\n",
              "age_rating       object\n",
              "running_time    float64\n",
              "seasons         float64\n",
              "episodes        float64\n",
              "type             object\n",
              "dtype: object"
            ]
          },
          "metadata": {},
          "execution_count": 17
        }
      ]
    },
    {
      "cell_type": "code",
      "source": [
        "tweet.dtypes.value_counts()"
      ],
      "metadata": {
        "colab": {
          "base_uri": "https://localhost:8080/"
        },
        "id": "QhlrydrNS0Y_",
        "outputId": "b52859e7-e3a6-43da-a5dc-505dd8e55261"
      },
      "execution_count": null,
      "outputs": [
        {
          "output_type": "execute_result",
          "data": {
            "text/plain": [
              "object     5\n",
              "float64    3\n",
              "int64      2\n",
              "dtype: int64"
            ]
          },
          "metadata": {},
          "execution_count": 12
        }
      ]
    },
    {
      "cell_type": "code",
      "source": [
        "tweet.isnull().sum()"
      ],
      "metadata": {
        "colab": {
          "base_uri": "https://localhost:8080/"
        },
        "id": "DW1hn3_YS6KV",
        "outputId": "eded446a-5953-4e81-d827-44d7c3e06fd5"
      },
      "execution_count": null,
      "outputs": [
        {
          "output_type": "execute_result",
          "data": {
            "text/plain": [
              "hotstar_id         0\n",
              "title              0\n",
              "description        0\n",
              "genre              0\n",
              "year               0\n",
              "age_rating         0\n",
              "running_time    2171\n",
              "seasons         4188\n",
              "episodes        4188\n",
              "type               0\n",
              "dtype: int64"
            ]
          },
          "metadata": {},
          "execution_count": 13
        }
      ]
    },
    {
      "cell_type": "code",
      "source": [
        "print('Count of columns in the data is:  ', len(tweet.columns))\n",
        "print('Count of rows in the data is:  ', len(tweet))"
      ],
      "metadata": {
        "colab": {
          "base_uri": "https://localhost:8080/"
        },
        "id": "jp_aNNLlTni5",
        "outputId": "0f85fd9d-b223-4236-a4d0-a0b9d49d3ac6"
      },
      "execution_count": null,
      "outputs": [
        {
          "output_type": "stream",
          "name": "stdout",
          "text": [
            "Count of columns in the data is:   10\n",
            "Count of rows in the data is:   6359\n"
          ]
        }
      ]
    },
    {
      "cell_type": "code",
      "source": [
        "tweet.dropna(axis=1,inplace=True)\n",
        "tweet.shape"
      ],
      "metadata": {
        "colab": {
          "base_uri": "https://localhost:8080/"
        },
        "id": "BzeFiZNgUH47",
        "outputId": "c653ef26-b390-4db0-97f8-410f066b1e7e"
      },
      "execution_count": null,
      "outputs": [
        {
          "output_type": "execute_result",
          "data": {
            "text/plain": [
              "(6359, 7)"
            ]
          },
          "metadata": {},
          "execution_count": 19
        }
      ]
    },
    {
      "cell_type": "code",
      "source": [
        "tweet.head()"
      ],
      "metadata": {
        "colab": {
          "base_uri": "https://localhost:8080/",
          "height": 206
        },
        "id": "GJdrFnDZVcDH",
        "outputId": "bf26a1dd-1282-47ea-d72a-07885c2e3294"
      },
      "execution_count": null,
      "outputs": [
        {
          "output_type": "execute_result",
          "data": {
            "text/plain": [
              "   hotstar_id                                           title  \\\n",
              "0  1835064133                                        The Ring   \n",
              "1  1260015636  Jesus: Rise To Power And Birth Of Christianity   \n",
              "2  1000070418                                     Yama Muduru   \n",
              "3  1770000804                           X-Men: The Last Stand   \n",
              "4  1770005017             Mangalyaan: India's Mission To Mars   \n",
              "\n",
              "                                         description        genre  year  \\\n",
              "0  Mutually divorced Aman emotionally struggles t...        Drama  2021   \n",
              "1  A journey across the historic landscapes of th...  Documentary  2019   \n",
              "2  Krishna Kumar is popular in college for his mu...        Drama  2009   \n",
              "3  When humans find a cure for mutation, Professo...    Superhero  2006   \n",
              "4  In this special, watch the 650 million km jour...  Documentary  2017   \n",
              "\n",
              "  age_rating   type  \n",
              "0    U/A 13+  movie  \n",
              "1    U/A 13+  movie  \n",
              "2    U/A 13+  movie  \n",
              "3    U/A 13+  movie  \n",
              "4          U  movie  "
            ],
            "text/html": [
              "\n",
              "  <div id=\"df-3403feef-45e9-4e24-ac40-b24ed4ff4ea4\">\n",
              "    <div class=\"colab-df-container\">\n",
              "      <div>\n",
              "<style scoped>\n",
              "    .dataframe tbody tr th:only-of-type {\n",
              "        vertical-align: middle;\n",
              "    }\n",
              "\n",
              "    .dataframe tbody tr th {\n",
              "        vertical-align: top;\n",
              "    }\n",
              "\n",
              "    .dataframe thead th {\n",
              "        text-align: right;\n",
              "    }\n",
              "</style>\n",
              "<table border=\"1\" class=\"dataframe\">\n",
              "  <thead>\n",
              "    <tr style=\"text-align: right;\">\n",
              "      <th></th>\n",
              "      <th>hotstar_id</th>\n",
              "      <th>title</th>\n",
              "      <th>description</th>\n",
              "      <th>genre</th>\n",
              "      <th>year</th>\n",
              "      <th>age_rating</th>\n",
              "      <th>type</th>\n",
              "    </tr>\n",
              "  </thead>\n",
              "  <tbody>\n",
              "    <tr>\n",
              "      <th>0</th>\n",
              "      <td>1835064133</td>\n",
              "      <td>The Ring</td>\n",
              "      <td>Mutually divorced Aman emotionally struggles t...</td>\n",
              "      <td>Drama</td>\n",
              "      <td>2021</td>\n",
              "      <td>U/A 13+</td>\n",
              "      <td>movie</td>\n",
              "    </tr>\n",
              "    <tr>\n",
              "      <th>1</th>\n",
              "      <td>1260015636</td>\n",
              "      <td>Jesus: Rise To Power And Birth Of Christianity</td>\n",
              "      <td>A journey across the historic landscapes of th...</td>\n",
              "      <td>Documentary</td>\n",
              "      <td>2019</td>\n",
              "      <td>U/A 13+</td>\n",
              "      <td>movie</td>\n",
              "    </tr>\n",
              "    <tr>\n",
              "      <th>2</th>\n",
              "      <td>1000070418</td>\n",
              "      <td>Yama Muduru</td>\n",
              "      <td>Krishna Kumar is popular in college for his mu...</td>\n",
              "      <td>Drama</td>\n",
              "      <td>2009</td>\n",
              "      <td>U/A 13+</td>\n",
              "      <td>movie</td>\n",
              "    </tr>\n",
              "    <tr>\n",
              "      <th>3</th>\n",
              "      <td>1770000804</td>\n",
              "      <td>X-Men: The Last Stand</td>\n",
              "      <td>When humans find a cure for mutation, Professo...</td>\n",
              "      <td>Superhero</td>\n",
              "      <td>2006</td>\n",
              "      <td>U/A 13+</td>\n",
              "      <td>movie</td>\n",
              "    </tr>\n",
              "    <tr>\n",
              "      <th>4</th>\n",
              "      <td>1770005017</td>\n",
              "      <td>Mangalyaan: India's Mission To Mars</td>\n",
              "      <td>In this special, watch the 650 million km jour...</td>\n",
              "      <td>Documentary</td>\n",
              "      <td>2017</td>\n",
              "      <td>U</td>\n",
              "      <td>movie</td>\n",
              "    </tr>\n",
              "  </tbody>\n",
              "</table>\n",
              "</div>\n",
              "      <button class=\"colab-df-convert\" onclick=\"convertToInteractive('df-3403feef-45e9-4e24-ac40-b24ed4ff4ea4')\"\n",
              "              title=\"Convert this dataframe to an interactive table.\"\n",
              "              style=\"display:none;\">\n",
              "        \n",
              "  <svg xmlns=\"http://www.w3.org/2000/svg\" height=\"24px\"viewBox=\"0 0 24 24\"\n",
              "       width=\"24px\">\n",
              "    <path d=\"M0 0h24v24H0V0z\" fill=\"none\"/>\n",
              "    <path d=\"M18.56 5.44l.94 2.06.94-2.06 2.06-.94-2.06-.94-.94-2.06-.94 2.06-2.06.94zm-11 1L8.5 8.5l.94-2.06 2.06-.94-2.06-.94L8.5 2.5l-.94 2.06-2.06.94zm10 10l.94 2.06.94-2.06 2.06-.94-2.06-.94-.94-2.06-.94 2.06-2.06.94z\"/><path d=\"M17.41 7.96l-1.37-1.37c-.4-.4-.92-.59-1.43-.59-.52 0-1.04.2-1.43.59L10.3 9.45l-7.72 7.72c-.78.78-.78 2.05 0 2.83L4 21.41c.39.39.9.59 1.41.59.51 0 1.02-.2 1.41-.59l7.78-7.78 2.81-2.81c.8-.78.8-2.07 0-2.86zM5.41 20L4 18.59l7.72-7.72 1.47 1.35L5.41 20z\"/>\n",
              "  </svg>\n",
              "      </button>\n",
              "      \n",
              "  <style>\n",
              "    .colab-df-container {\n",
              "      display:flex;\n",
              "      flex-wrap:wrap;\n",
              "      gap: 12px;\n",
              "    }\n",
              "\n",
              "    .colab-df-convert {\n",
              "      background-color: #E8F0FE;\n",
              "      border: none;\n",
              "      border-radius: 50%;\n",
              "      cursor: pointer;\n",
              "      display: none;\n",
              "      fill: #1967D2;\n",
              "      height: 32px;\n",
              "      padding: 0 0 0 0;\n",
              "      width: 32px;\n",
              "    }\n",
              "\n",
              "    .colab-df-convert:hover {\n",
              "      background-color: #E2EBFA;\n",
              "      box-shadow: 0px 1px 2px rgba(60, 64, 67, 0.3), 0px 1px 3px 1px rgba(60, 64, 67, 0.15);\n",
              "      fill: #174EA6;\n",
              "    }\n",
              "\n",
              "    [theme=dark] .colab-df-convert {\n",
              "      background-color: #3B4455;\n",
              "      fill: #D2E3FC;\n",
              "    }\n",
              "\n",
              "    [theme=dark] .colab-df-convert:hover {\n",
              "      background-color: #434B5C;\n",
              "      box-shadow: 0px 1px 3px 1px rgba(0, 0, 0, 0.15);\n",
              "      filter: drop-shadow(0px 1px 2px rgba(0, 0, 0, 0.3));\n",
              "      fill: #FFFFFF;\n",
              "    }\n",
              "  </style>\n",
              "\n",
              "      <script>\n",
              "        const buttonEl =\n",
              "          document.querySelector('#df-3403feef-45e9-4e24-ac40-b24ed4ff4ea4 button.colab-df-convert');\n",
              "        buttonEl.style.display =\n",
              "          google.colab.kernel.accessAllowed ? 'block' : 'none';\n",
              "\n",
              "        async function convertToInteractive(key) {\n",
              "          const element = document.querySelector('#df-3403feef-45e9-4e24-ac40-b24ed4ff4ea4');\n",
              "          const dataTable =\n",
              "            await google.colab.kernel.invokeFunction('convertToInteractive',\n",
              "                                                     [key], {});\n",
              "          if (!dataTable) return;\n",
              "\n",
              "          const docLinkHtml = 'Like what you see? Visit the ' +\n",
              "            '<a target=\"_blank\" href=https://colab.research.google.com/notebooks/data_table.ipynb>data table notebook</a>'\n",
              "            + ' to learn more about interactive tables.';\n",
              "          element.innerHTML = '';\n",
              "          dataTable['output_type'] = 'display_data';\n",
              "          await google.colab.output.renderOutput(dataTable, element);\n",
              "          const docLink = document.createElement('div');\n",
              "          docLink.innerHTML = docLinkHtml;\n",
              "          element.appendChild(docLink);\n",
              "        }\n",
              "      </script>\n",
              "    </div>\n",
              "  </div>\n",
              "  "
            ]
          },
          "metadata": {},
          "execution_count": 20
        }
      ]
    },
    {
      "cell_type": "markdown",
      "source": [
        "as hotstar id is not important we can drop it\n"
      ],
      "metadata": {
        "id": "WXBzaNOJVQLb"
      }
    },
    {
      "cell_type": "code",
      "source": [
        "tweet.drop(columns = \"hotstar_id\",inplace = True)"
      ],
      "metadata": {
        "id": "Ty-_Z4a5VIyM"
      },
      "execution_count": null,
      "outputs": []
    },
    {
      "cell_type": "code",
      "source": [
        "tweet.head()"
      ],
      "metadata": {
        "colab": {
          "base_uri": "https://localhost:8080/",
          "height": 206
        },
        "id": "kCbrh3BOVpio",
        "outputId": "7fd5b200-6a0b-45d4-daf6-f504f3abe2ab"
      },
      "execution_count": null,
      "outputs": [
        {
          "output_type": "execute_result",
          "data": {
            "text/plain": [
              "                                            title  \\\n",
              "0                                        The Ring   \n",
              "1  Jesus: Rise To Power And Birth Of Christianity   \n",
              "2                                     Yama Muduru   \n",
              "3                           X-Men: The Last Stand   \n",
              "4             Mangalyaan: India's Mission To Mars   \n",
              "\n",
              "                                         description        genre  year  \\\n",
              "0  Mutually divorced Aman emotionally struggles t...        Drama  2021   \n",
              "1  A journey across the historic landscapes of th...  Documentary  2019   \n",
              "2  Krishna Kumar is popular in college for his mu...        Drama  2009   \n",
              "3  When humans find a cure for mutation, Professo...    Superhero  2006   \n",
              "4  In this special, watch the 650 million km jour...  Documentary  2017   \n",
              "\n",
              "  age_rating   type  \n",
              "0    U/A 13+  movie  \n",
              "1    U/A 13+  movie  \n",
              "2    U/A 13+  movie  \n",
              "3    U/A 13+  movie  \n",
              "4          U  movie  "
            ],
            "text/html": [
              "\n",
              "  <div id=\"df-76d2a64a-e1ef-4a03-a98f-abbbe477d3ec\">\n",
              "    <div class=\"colab-df-container\">\n",
              "      <div>\n",
              "<style scoped>\n",
              "    .dataframe tbody tr th:only-of-type {\n",
              "        vertical-align: middle;\n",
              "    }\n",
              "\n",
              "    .dataframe tbody tr th {\n",
              "        vertical-align: top;\n",
              "    }\n",
              "\n",
              "    .dataframe thead th {\n",
              "        text-align: right;\n",
              "    }\n",
              "</style>\n",
              "<table border=\"1\" class=\"dataframe\">\n",
              "  <thead>\n",
              "    <tr style=\"text-align: right;\">\n",
              "      <th></th>\n",
              "      <th>title</th>\n",
              "      <th>description</th>\n",
              "      <th>genre</th>\n",
              "      <th>year</th>\n",
              "      <th>age_rating</th>\n",
              "      <th>type</th>\n",
              "    </tr>\n",
              "  </thead>\n",
              "  <tbody>\n",
              "    <tr>\n",
              "      <th>0</th>\n",
              "      <td>The Ring</td>\n",
              "      <td>Mutually divorced Aman emotionally struggles t...</td>\n",
              "      <td>Drama</td>\n",
              "      <td>2021</td>\n",
              "      <td>U/A 13+</td>\n",
              "      <td>movie</td>\n",
              "    </tr>\n",
              "    <tr>\n",
              "      <th>1</th>\n",
              "      <td>Jesus: Rise To Power And Birth Of Christianity</td>\n",
              "      <td>A journey across the historic landscapes of th...</td>\n",
              "      <td>Documentary</td>\n",
              "      <td>2019</td>\n",
              "      <td>U/A 13+</td>\n",
              "      <td>movie</td>\n",
              "    </tr>\n",
              "    <tr>\n",
              "      <th>2</th>\n",
              "      <td>Yama Muduru</td>\n",
              "      <td>Krishna Kumar is popular in college for his mu...</td>\n",
              "      <td>Drama</td>\n",
              "      <td>2009</td>\n",
              "      <td>U/A 13+</td>\n",
              "      <td>movie</td>\n",
              "    </tr>\n",
              "    <tr>\n",
              "      <th>3</th>\n",
              "      <td>X-Men: The Last Stand</td>\n",
              "      <td>When humans find a cure for mutation, Professo...</td>\n",
              "      <td>Superhero</td>\n",
              "      <td>2006</td>\n",
              "      <td>U/A 13+</td>\n",
              "      <td>movie</td>\n",
              "    </tr>\n",
              "    <tr>\n",
              "      <th>4</th>\n",
              "      <td>Mangalyaan: India's Mission To Mars</td>\n",
              "      <td>In this special, watch the 650 million km jour...</td>\n",
              "      <td>Documentary</td>\n",
              "      <td>2017</td>\n",
              "      <td>U</td>\n",
              "      <td>movie</td>\n",
              "    </tr>\n",
              "  </tbody>\n",
              "</table>\n",
              "</div>\n",
              "      <button class=\"colab-df-convert\" onclick=\"convertToInteractive('df-76d2a64a-e1ef-4a03-a98f-abbbe477d3ec')\"\n",
              "              title=\"Convert this dataframe to an interactive table.\"\n",
              "              style=\"display:none;\">\n",
              "        \n",
              "  <svg xmlns=\"http://www.w3.org/2000/svg\" height=\"24px\"viewBox=\"0 0 24 24\"\n",
              "       width=\"24px\">\n",
              "    <path d=\"M0 0h24v24H0V0z\" fill=\"none\"/>\n",
              "    <path d=\"M18.56 5.44l.94 2.06.94-2.06 2.06-.94-2.06-.94-.94-2.06-.94 2.06-2.06.94zm-11 1L8.5 8.5l.94-2.06 2.06-.94-2.06-.94L8.5 2.5l-.94 2.06-2.06.94zm10 10l.94 2.06.94-2.06 2.06-.94-2.06-.94-.94-2.06-.94 2.06-2.06.94z\"/><path d=\"M17.41 7.96l-1.37-1.37c-.4-.4-.92-.59-1.43-.59-.52 0-1.04.2-1.43.59L10.3 9.45l-7.72 7.72c-.78.78-.78 2.05 0 2.83L4 21.41c.39.39.9.59 1.41.59.51 0 1.02-.2 1.41-.59l7.78-7.78 2.81-2.81c.8-.78.8-2.07 0-2.86zM5.41 20L4 18.59l7.72-7.72 1.47 1.35L5.41 20z\"/>\n",
              "  </svg>\n",
              "      </button>\n",
              "      \n",
              "  <style>\n",
              "    .colab-df-container {\n",
              "      display:flex;\n",
              "      flex-wrap:wrap;\n",
              "      gap: 12px;\n",
              "    }\n",
              "\n",
              "    .colab-df-convert {\n",
              "      background-color: #E8F0FE;\n",
              "      border: none;\n",
              "      border-radius: 50%;\n",
              "      cursor: pointer;\n",
              "      display: none;\n",
              "      fill: #1967D2;\n",
              "      height: 32px;\n",
              "      padding: 0 0 0 0;\n",
              "      width: 32px;\n",
              "    }\n",
              "\n",
              "    .colab-df-convert:hover {\n",
              "      background-color: #E2EBFA;\n",
              "      box-shadow: 0px 1px 2px rgba(60, 64, 67, 0.3), 0px 1px 3px 1px rgba(60, 64, 67, 0.15);\n",
              "      fill: #174EA6;\n",
              "    }\n",
              "\n",
              "    [theme=dark] .colab-df-convert {\n",
              "      background-color: #3B4455;\n",
              "      fill: #D2E3FC;\n",
              "    }\n",
              "\n",
              "    [theme=dark] .colab-df-convert:hover {\n",
              "      background-color: #434B5C;\n",
              "      box-shadow: 0px 1px 3px 1px rgba(0, 0, 0, 0.15);\n",
              "      filter: drop-shadow(0px 1px 2px rgba(0, 0, 0, 0.3));\n",
              "      fill: #FFFFFF;\n",
              "    }\n",
              "  </style>\n",
              "\n",
              "      <script>\n",
              "        const buttonEl =\n",
              "          document.querySelector('#df-76d2a64a-e1ef-4a03-a98f-abbbe477d3ec button.colab-df-convert');\n",
              "        buttonEl.style.display =\n",
              "          google.colab.kernel.accessAllowed ? 'block' : 'none';\n",
              "\n",
              "        async function convertToInteractive(key) {\n",
              "          const element = document.querySelector('#df-76d2a64a-e1ef-4a03-a98f-abbbe477d3ec');\n",
              "          const dataTable =\n",
              "            await google.colab.kernel.invokeFunction('convertToInteractive',\n",
              "                                                     [key], {});\n",
              "          if (!dataTable) return;\n",
              "\n",
              "          const docLinkHtml = 'Like what you see? Visit the ' +\n",
              "            '<a target=\"_blank\" href=https://colab.research.google.com/notebooks/data_table.ipynb>data table notebook</a>'\n",
              "            + ' to learn more about interactive tables.';\n",
              "          element.innerHTML = '';\n",
              "          dataTable['output_type'] = 'display_data';\n",
              "          await google.colab.output.renderOutput(dataTable, element);\n",
              "          const docLink = document.createElement('div');\n",
              "          docLink.innerHTML = docLinkHtml;\n",
              "          element.appendChild(docLink);\n",
              "        }\n",
              "      </script>\n",
              "    </div>\n",
              "  </div>\n",
              "  "
            ]
          },
          "metadata": {},
          "execution_count": 23
        }
      ]
    },
    {
      "cell_type": "code",
      "source": [
        "tweet.age_rating.value_counts()"
      ],
      "metadata": {
        "colab": {
          "base_uri": "https://localhost:8080/"
        },
        "id": "mGmXj3TlVwLO",
        "outputId": "de4cef51-f43f-433e-ffbe-47d42fe7ac82"
      },
      "execution_count": null,
      "outputs": [
        {
          "output_type": "execute_result",
          "data": {
            "text/plain": [
              "U/A 13+                  2598\n",
              "U                        1062\n",
              "U/A 7+                   1045\n",
              "U/A 16+                   998\n",
              "A                         271\n",
              "PG                        252\n",
              "G                          81\n",
              "12+                        20\n",
              "15+                         9\n",
              "English                     6\n",
              "Kannada                     4\n",
              "Star Sports 1 Marathi       3\n",
              "Hindi                       1\n",
              "Tamil                       1\n",
              "Star Sports 2               1\n",
              "Star Vijay                  1\n",
              "Star Sports Kannada 1       1\n",
              "Star Suvarna                1\n",
              "Marathi                     1\n",
              "Star Sports 1 Telugu        1\n",
              "Telugu                      1\n",
              "Star Sports Hindi 1         1\n",
              "Name: age_rating, dtype: int64"
            ]
          },
          "metadata": {},
          "execution_count": 24
        }
      ]
    },
    {
      "cell_type": "code",
      "source": [
        "#Renaming values for better reference\n",
        "tweet['age_rating']=tweet['age_rating'].str.replace('U/A 13+','13')\n",
        "tweet['age_rating']=tweet['age_rating'].str.replace('U/A 7+','7')\n",
        "tweet['age_rating']=tweet['age_rating'].str.replace('U/A 16+','16')"
      ],
      "metadata": {
        "colab": {
          "base_uri": "https://localhost:8080/"
        },
        "id": "5lAHxUccV-kk",
        "outputId": "d5ffa6f7-0a1b-4aea-c276-fafe1c88db6e"
      },
      "execution_count": null,
      "outputs": [
        {
          "output_type": "stream",
          "name": "stderr",
          "text": [
            "/usr/local/lib/python3.7/dist-packages/ipykernel_launcher.py:2: FutureWarning: The default value of regex will change from True to False in a future version.\n",
            "  \n",
            "/usr/local/lib/python3.7/dist-packages/ipykernel_launcher.py:3: FutureWarning: The default value of regex will change from True to False in a future version.\n",
            "  This is separate from the ipykernel package so we can avoid doing imports until\n",
            "/usr/local/lib/python3.7/dist-packages/ipykernel_launcher.py:4: FutureWarning: The default value of regex will change from True to False in a future version.\n",
            "  after removing the cwd from sys.path.\n"
          ]
        }
      ]
    },
    {
      "cell_type": "markdown",
      "source": [
        "removing languages from age rating"
      ],
      "metadata": {
        "id": "_ChzePN9WaLS"
      }
    },
    {
      "cell_type": "code",
      "source": [
        "tweet.index"
      ],
      "metadata": {
        "colab": {
          "base_uri": "https://localhost:8080/"
        },
        "id": "zT9YKlnNWsae",
        "outputId": "efdd7aef-a6cd-471d-c281-87e09266d164"
      },
      "execution_count": null,
      "outputs": [
        {
          "output_type": "execute_result",
          "data": {
            "text/plain": [
              "RangeIndex(start=0, stop=6359, step=1)"
            ]
          },
          "metadata": {},
          "execution_count": 26
        }
      ]
    },
    {
      "cell_type": "code",
      "source": [
        "tweet.drop(tweet.index[tweet['age_rating'] == 'English'],inplace=True)\n",
        "tweet.drop(tweet.index[tweet['age_rating'] == 'Kannada'],inplace=True)\n",
        "tweet.drop(tweet.index[tweet['age_rating'] == 'Tamil'],inplace=True)\n",
        "tweet.drop(tweet.index[tweet['age_rating'] == 'Telugu'],inplace=True)\n",
        "tweet.drop(tweet.index[tweet['age_rating'] == 'Hindi'],inplace=True)\n",
        "tweet.drop(tweet.index[tweet['age_rating'] == 'Marathi'],inplace=True)\n",
        "tweet.drop(tweet.index[tweet['age_rating'] == 'Star Sports 1 Marathi'],inplace=True)\n",
        "tweet.drop(tweet.index[tweet['age_rating'] == 'Star Sports Kannada 1 '],inplace=True)\n",
        "tweet.drop(tweet.index[tweet['age_rating'] == 'Star Sports 1 Telugu  '],inplace=True)\n",
        "tweet.drop(tweet.index[tweet['age_rating'] == 'Star Suvarna'],inplace=True)\n",
        "tweet.drop(tweet.index[tweet['age_rating'] == 'Star Vijay'],inplace=True)\n",
        "tweet.drop(tweet.index[tweet['age_rating'] == 'Star Sports 2'],inplace=True)\n",
        "tweet.drop(tweet.index[tweet['age_rating'] == 'Star Sports Hindi 1'],inplace=True)\n",
        "tweet.drop(tweet.index[tweet['age_rating'] == 'Star Sports Kannada 1'],inplace=True)\n",
        "tweet.drop(tweet.index[tweet['age_rating'] == 'Star Sports 1 Telugu'],inplace=True)"
      ],
      "metadata": {
        "id": "ZB-gpKZfWtuP"
      },
      "execution_count": null,
      "outputs": []
    },
    {
      "cell_type": "code",
      "source": [
        "tweet.age_rating.value_counts()"
      ],
      "metadata": {
        "colab": {
          "base_uri": "https://localhost:8080/"
        },
        "id": "i_1tlR-4XcRQ",
        "outputId": "ece04cc8-105c-4ee9-874a-7e8bd5956c5a"
      },
      "execution_count": null,
      "outputs": [
        {
          "output_type": "execute_result",
          "data": {
            "text/plain": [
              "13+    2598\n",
              "U      1062\n",
              "7+     1045\n",
              "16+     998\n",
              "A       271\n",
              "PG      252\n",
              "G        81\n",
              "12+      20\n",
              "15+       9\n",
              "Name: age_rating, dtype: int64"
            ]
          },
          "metadata": {},
          "execution_count": 38
        }
      ]
    },
    {
      "cell_type": "markdown",
      "source": [
        "genre column"
      ],
      "metadata": {
        "id": "oNDr8Y_ZZBc5"
      }
    },
    {
      "cell_type": "code",
      "source": [
        "tweet['genre'].value_counts()"
      ],
      "metadata": {
        "colab": {
          "base_uri": "https://localhost:8080/"
        },
        "id": "-7f6-nEIXkpI",
        "outputId": "a755270d-f6fe-49aa-8ae1-0391ead15da0"
      },
      "execution_count": null,
      "outputs": [
        {
          "output_type": "execute_result",
          "data": {
            "text/plain": [
              "Drama               1806\n",
              "Comedy               754\n",
              "Romance              606\n",
              "Action               583\n",
              "Reality              377\n",
              "Thriller             315\n",
              "Family               247\n",
              "Animation            223\n",
              "Sport                208\n",
              "Documentary          177\n",
              "Animals & Nature     119\n",
              "Kids                 104\n",
              "Horror                96\n",
              "Crime                 89\n",
              "Talk Show             80\n",
              "Mythology             76\n",
              "Superhero             61\n",
              "Standup Comedy        51\n",
              "Adventure             44\n",
              "Historical            41\n",
              "Biopic                40\n",
              "Science Fiction       38\n",
              "Science               34\n",
              "Teen                  31\n",
              "Awards                27\n",
              "Mystery               26\n",
              "Lifestyle             26\n",
              "Musical               15\n",
              "Concert Film          12\n",
              "Shorts                 7\n",
              "Travel                 7\n",
              "Docudrama              6\n",
              "Food                   6\n",
              "Fantasy                3\n",
              "Kabaddi                1\n",
              "Name: genre, dtype: int64"
            ]
          },
          "metadata": {},
          "execution_count": 39
        }
      ]
    },
    {
      "cell_type": "code",
      "source": [
        "tweet.head(10)"
      ],
      "metadata": {
        "colab": {
          "base_uri": "https://localhost:8080/",
          "height": 363
        },
        "id": "9eBxKKCUZG2x",
        "outputId": "ceeff5a3-affd-4c89-beb9-86a689d75b04"
      },
      "execution_count": null,
      "outputs": [
        {
          "output_type": "execute_result",
          "data": {
            "text/plain": [
              "                                            title  \\\n",
              "0                                        The Ring   \n",
              "1  Jesus: Rise To Power And Birth Of Christianity   \n",
              "2                                     Yama Muduru   \n",
              "3                           X-Men: The Last Stand   \n",
              "4             Mangalyaan: India's Mission To Mars   \n",
              "5                    The Disney Holiday Singalong   \n",
              "6                                          Rambha   \n",
              "7                                 Pyaar Ka Saagar   \n",
              "8                               Kaada Beladingalu   \n",
              "9                                   Ullasa Utsaha   \n",
              "\n",
              "                                         description        genre  year  \\\n",
              "0  Mutually divorced Aman emotionally struggles t...        Drama  2021   \n",
              "1  A journey across the historic landscapes of th...  Documentary  2019   \n",
              "2  Krishna Kumar is popular in college for his mu...        Drama  2009   \n",
              "3  When humans find a cure for mutation, Professo...    Superhero  2006   \n",
              "4  In this special, watch the 650 million km jour...  Documentary  2017   \n",
              "5  Hosted by Ryan Seacrest, the jolly event full ...      Musical  2020   \n",
              "6  Newlyweds Srikanth and Ramya rent a flat. The ...      Romance  2006   \n",
              "7  After his parents die, Bishen takes it upon hi...       Family  1961   \n",
              "8  While on an assignment, journalist Sudheshene ...        Drama  2007   \n",
              "9  Preetham tries to woo Mahalakshmi, who is in l...      Romance  2010   \n",
              "\n",
              "  age_rating   type  \n",
              "0        13+  movie  \n",
              "1        13+  movie  \n",
              "2        13+  movie  \n",
              "3        13+  movie  \n",
              "4          U  movie  \n",
              "5         7+  movie  \n",
              "6        16+  movie  \n",
              "7          U  movie  \n",
              "8         7+  movie  \n",
              "9         7+  movie  "
            ],
            "text/html": [
              "\n",
              "  <div id=\"df-6fb7c2d5-55aa-4c80-85e6-10fa17a416cd\">\n",
              "    <div class=\"colab-df-container\">\n",
              "      <div>\n",
              "<style scoped>\n",
              "    .dataframe tbody tr th:only-of-type {\n",
              "        vertical-align: middle;\n",
              "    }\n",
              "\n",
              "    .dataframe tbody tr th {\n",
              "        vertical-align: top;\n",
              "    }\n",
              "\n",
              "    .dataframe thead th {\n",
              "        text-align: right;\n",
              "    }\n",
              "</style>\n",
              "<table border=\"1\" class=\"dataframe\">\n",
              "  <thead>\n",
              "    <tr style=\"text-align: right;\">\n",
              "      <th></th>\n",
              "      <th>title</th>\n",
              "      <th>description</th>\n",
              "      <th>genre</th>\n",
              "      <th>year</th>\n",
              "      <th>age_rating</th>\n",
              "      <th>type</th>\n",
              "    </tr>\n",
              "  </thead>\n",
              "  <tbody>\n",
              "    <tr>\n",
              "      <th>0</th>\n",
              "      <td>The Ring</td>\n",
              "      <td>Mutually divorced Aman emotionally struggles t...</td>\n",
              "      <td>Drama</td>\n",
              "      <td>2021</td>\n",
              "      <td>13+</td>\n",
              "      <td>movie</td>\n",
              "    </tr>\n",
              "    <tr>\n",
              "      <th>1</th>\n",
              "      <td>Jesus: Rise To Power And Birth Of Christianity</td>\n",
              "      <td>A journey across the historic landscapes of th...</td>\n",
              "      <td>Documentary</td>\n",
              "      <td>2019</td>\n",
              "      <td>13+</td>\n",
              "      <td>movie</td>\n",
              "    </tr>\n",
              "    <tr>\n",
              "      <th>2</th>\n",
              "      <td>Yama Muduru</td>\n",
              "      <td>Krishna Kumar is popular in college for his mu...</td>\n",
              "      <td>Drama</td>\n",
              "      <td>2009</td>\n",
              "      <td>13+</td>\n",
              "      <td>movie</td>\n",
              "    </tr>\n",
              "    <tr>\n",
              "      <th>3</th>\n",
              "      <td>X-Men: The Last Stand</td>\n",
              "      <td>When humans find a cure for mutation, Professo...</td>\n",
              "      <td>Superhero</td>\n",
              "      <td>2006</td>\n",
              "      <td>13+</td>\n",
              "      <td>movie</td>\n",
              "    </tr>\n",
              "    <tr>\n",
              "      <th>4</th>\n",
              "      <td>Mangalyaan: India's Mission To Mars</td>\n",
              "      <td>In this special, watch the 650 million km jour...</td>\n",
              "      <td>Documentary</td>\n",
              "      <td>2017</td>\n",
              "      <td>U</td>\n",
              "      <td>movie</td>\n",
              "    </tr>\n",
              "    <tr>\n",
              "      <th>5</th>\n",
              "      <td>The Disney Holiday Singalong</td>\n",
              "      <td>Hosted by Ryan Seacrest, the jolly event full ...</td>\n",
              "      <td>Musical</td>\n",
              "      <td>2020</td>\n",
              "      <td>7+</td>\n",
              "      <td>movie</td>\n",
              "    </tr>\n",
              "    <tr>\n",
              "      <th>6</th>\n",
              "      <td>Rambha</td>\n",
              "      <td>Newlyweds Srikanth and Ramya rent a flat. The ...</td>\n",
              "      <td>Romance</td>\n",
              "      <td>2006</td>\n",
              "      <td>16+</td>\n",
              "      <td>movie</td>\n",
              "    </tr>\n",
              "    <tr>\n",
              "      <th>7</th>\n",
              "      <td>Pyaar Ka Saagar</td>\n",
              "      <td>After his parents die, Bishen takes it upon hi...</td>\n",
              "      <td>Family</td>\n",
              "      <td>1961</td>\n",
              "      <td>U</td>\n",
              "      <td>movie</td>\n",
              "    </tr>\n",
              "    <tr>\n",
              "      <th>8</th>\n",
              "      <td>Kaada Beladingalu</td>\n",
              "      <td>While on an assignment, journalist Sudheshene ...</td>\n",
              "      <td>Drama</td>\n",
              "      <td>2007</td>\n",
              "      <td>7+</td>\n",
              "      <td>movie</td>\n",
              "    </tr>\n",
              "    <tr>\n",
              "      <th>9</th>\n",
              "      <td>Ullasa Utsaha</td>\n",
              "      <td>Preetham tries to woo Mahalakshmi, who is in l...</td>\n",
              "      <td>Romance</td>\n",
              "      <td>2010</td>\n",
              "      <td>7+</td>\n",
              "      <td>movie</td>\n",
              "    </tr>\n",
              "  </tbody>\n",
              "</table>\n",
              "</div>\n",
              "      <button class=\"colab-df-convert\" onclick=\"convertToInteractive('df-6fb7c2d5-55aa-4c80-85e6-10fa17a416cd')\"\n",
              "              title=\"Convert this dataframe to an interactive table.\"\n",
              "              style=\"display:none;\">\n",
              "        \n",
              "  <svg xmlns=\"http://www.w3.org/2000/svg\" height=\"24px\"viewBox=\"0 0 24 24\"\n",
              "       width=\"24px\">\n",
              "    <path d=\"M0 0h24v24H0V0z\" fill=\"none\"/>\n",
              "    <path d=\"M18.56 5.44l.94 2.06.94-2.06 2.06-.94-2.06-.94-.94-2.06-.94 2.06-2.06.94zm-11 1L8.5 8.5l.94-2.06 2.06-.94-2.06-.94L8.5 2.5l-.94 2.06-2.06.94zm10 10l.94 2.06.94-2.06 2.06-.94-2.06-.94-.94-2.06-.94 2.06-2.06.94z\"/><path d=\"M17.41 7.96l-1.37-1.37c-.4-.4-.92-.59-1.43-.59-.52 0-1.04.2-1.43.59L10.3 9.45l-7.72 7.72c-.78.78-.78 2.05 0 2.83L4 21.41c.39.39.9.59 1.41.59.51 0 1.02-.2 1.41-.59l7.78-7.78 2.81-2.81c.8-.78.8-2.07 0-2.86zM5.41 20L4 18.59l7.72-7.72 1.47 1.35L5.41 20z\"/>\n",
              "  </svg>\n",
              "      </button>\n",
              "      \n",
              "  <style>\n",
              "    .colab-df-container {\n",
              "      display:flex;\n",
              "      flex-wrap:wrap;\n",
              "      gap: 12px;\n",
              "    }\n",
              "\n",
              "    .colab-df-convert {\n",
              "      background-color: #E8F0FE;\n",
              "      border: none;\n",
              "      border-radius: 50%;\n",
              "      cursor: pointer;\n",
              "      display: none;\n",
              "      fill: #1967D2;\n",
              "      height: 32px;\n",
              "      padding: 0 0 0 0;\n",
              "      width: 32px;\n",
              "    }\n",
              "\n",
              "    .colab-df-convert:hover {\n",
              "      background-color: #E2EBFA;\n",
              "      box-shadow: 0px 1px 2px rgba(60, 64, 67, 0.3), 0px 1px 3px 1px rgba(60, 64, 67, 0.15);\n",
              "      fill: #174EA6;\n",
              "    }\n",
              "\n",
              "    [theme=dark] .colab-df-convert {\n",
              "      background-color: #3B4455;\n",
              "      fill: #D2E3FC;\n",
              "    }\n",
              "\n",
              "    [theme=dark] .colab-df-convert:hover {\n",
              "      background-color: #434B5C;\n",
              "      box-shadow: 0px 1px 3px 1px rgba(0, 0, 0, 0.15);\n",
              "      filter: drop-shadow(0px 1px 2px rgba(0, 0, 0, 0.3));\n",
              "      fill: #FFFFFF;\n",
              "    }\n",
              "  </style>\n",
              "\n",
              "      <script>\n",
              "        const buttonEl =\n",
              "          document.querySelector('#df-6fb7c2d5-55aa-4c80-85e6-10fa17a416cd button.colab-df-convert');\n",
              "        buttonEl.style.display =\n",
              "          google.colab.kernel.accessAllowed ? 'block' : 'none';\n",
              "\n",
              "        async function convertToInteractive(key) {\n",
              "          const element = document.querySelector('#df-6fb7c2d5-55aa-4c80-85e6-10fa17a416cd');\n",
              "          const dataTable =\n",
              "            await google.colab.kernel.invokeFunction('convertToInteractive',\n",
              "                                                     [key], {});\n",
              "          if (!dataTable) return;\n",
              "\n",
              "          const docLinkHtml = 'Like what you see? Visit the ' +\n",
              "            '<a target=\"_blank\" href=https://colab.research.google.com/notebooks/data_table.ipynb>data table notebook</a>'\n",
              "            + ' to learn more about interactive tables.';\n",
              "          element.innerHTML = '';\n",
              "          dataTable['output_type'] = 'display_data';\n",
              "          await google.colab.output.renderOutput(dataTable, element);\n",
              "          const docLink = document.createElement('div');\n",
              "          docLink.innerHTML = docLinkHtml;\n",
              "          element.appendChild(docLink);\n",
              "        }\n",
              "      </script>\n",
              "    </div>\n",
              "  </div>\n",
              "  "
            ]
          },
          "metadata": {},
          "execution_count": 40
        }
      ]
    },
    {
      "cell_type": "code",
      "source": [
        "plt.figure(figsize=(50,30))\n",
        "sns.countplot(tweet[\"genre\"])"
      ],
      "metadata": {
        "colab": {
          "base_uri": "https://localhost:8080/",
          "height": 744
        },
        "id": "KJDNmx5-eYas",
        "outputId": "bd52817e-26a5-40c7-fc75-78383abb3837"
      },
      "execution_count": null,
      "outputs": [
        {
          "output_type": "stream",
          "name": "stderr",
          "text": [
            "/usr/local/lib/python3.7/dist-packages/seaborn/_decorators.py:43: FutureWarning: Pass the following variable as a keyword arg: x. From version 0.12, the only valid positional argument will be `data`, and passing other arguments without an explicit keyword will result in an error or misinterpretation.\n",
            "  FutureWarning\n"
          ]
        },
        {
          "output_type": "execute_result",
          "data": {
            "text/plain": [
              "<matplotlib.axes._subplots.AxesSubplot at 0x7fb73b529c90>"
            ]
          },
          "metadata": {},
          "execution_count": 49
        },
        {
          "output_type": "display_data",
          "data": {
            "text/plain": [
              "<Figure size 3600x2160 with 1 Axes>"
            ],
            "image/png": "[encoded data removed]"
          },
          "metadata": {
            "needs_background": "light"
          }
        }
      ]
    },
    {
      "cell_type": "code",
      "source": [
        "plt.figure(figsize=(40,10))\n",
        "sns.countplot(tweet[\"year\"])"
      ],
      "metadata": {
        "colab": {
          "base_uri": "https://localhost:8080/",
          "height": 376
        },
        "id": "FmSUWFDNdpaf",
        "outputId": "af4aef58-d015-4e73-a496-81ae863d7160"
      },
      "execution_count": null,
      "outputs": [
        {
          "output_type": "stream",
          "name": "stderr",
          "text": [
            "/usr/local/lib/python3.7/dist-packages/seaborn/_decorators.py:43: FutureWarning: Pass the following variable as a keyword arg: x. From version 0.12, the only valid positional argument will be `data`, and passing other arguments without an explicit keyword will result in an error or misinterpretation.\n",
            "  FutureWarning\n"
          ]
        },
        {
          "output_type": "execute_result",
          "data": {
            "text/plain": [
              "<matplotlib.axes._subplots.AxesSubplot at 0x7fb73bbad110>"
            ]
          },
          "metadata": {},
          "execution_count": 46
        },
        {
          "output_type": "display_data",
          "data": {
            "text/plain": [
              "<Figure size 2880x720 with 1 Axes>"
            ],
            "image/png": "[encoded data removed]"
          },
          "metadata": {
            "needs_background": "light"
          }
        }
      ]
    },
    {
      "cell_type": "code",
      "source": [
        "plt.figure(figsize=(30,10))\n",
        "sns.countplot(tweet[\"age_rating\"])"
      ],
      "metadata": {
        "colab": {
          "base_uri": "https://localhost:8080/",
          "height": 678
        },
        "id": "sFMAisP-d7MN",
        "outputId": "fad96950-752a-4fd4-ed55-12cb8d5bc3fc"
      },
      "execution_count": null,
      "outputs": [
        {
          "output_type": "stream",
          "name": "stderr",
          "text": [
            "/usr/local/lib/python3.7/dist-packages/seaborn/_decorators.py:43: FutureWarning: Pass the following variable as a keyword arg: x. From version 0.12, the only valid positional argument will be `data`, and passing other arguments without an explicit keyword will result in an error or misinterpretation.\n",
            "  FutureWarning\n"
          ]
        },
        {
          "output_type": "execute_result",
          "data": {
            "text/plain": [
              "<matplotlib.axes._subplots.AxesSubplot at 0x7fb73b376b90>"
            ]
          },
          "metadata": {},
          "execution_count": 51
        },
        {
          "output_type": "display_data",
          "data": {
            "text/plain": [
              "<Figure size 2160x720 with 1 Axes>"
            ],
            "image/png": "[encoded data removed]"
          },
          "metadata": {
            "needs_background": "light"
          }
        }
      ]
    },
    {
      "cell_type": "code",
      "source": [
        "data=tweet['year'].value_counts().sort_values(ascending=False)\n",
        "sns.lineplot(x=data.index, y=data)"
      ],
      "metadata": {
        "colab": {
          "base_uri": "https://localhost:8080/",
          "height": 282
        },
        "id": "V1WsVUcZopXW",
        "outputId": "b28c9814-be20-417b-f178-afaeca005f52"
      },
      "execution_count": null,
      "outputs": [
        {
          "output_type": "execute_result",
          "data": {
            "text/plain": [
              "<matplotlib.axes._subplots.AxesSubplot at 0x7fb73a3e3d50>"
            ]
          },
          "metadata": {},
          "execution_count": 62
        },
        {
          "output_type": "display_data",
          "data": {
            "text/plain": [
              "<Figure size 432x288 with 1 Axes>"
            ],
            "image/png": "[encoded data removed]"
          },
          "metadata": {
            "needs_background": "light"
          }
        }
      ]
    },
    {
      "cell_type": "code",
      "source": [
        "data=tweet['age_rating'].value_counts().sort_values(ascending=False)\n",
        "sns.lineplot(x=data.index, y=data)"
      ],
      "metadata": {
        "colab": {
          "base_uri": "https://localhost:8080/",
          "height": 282
        },
        "id": "LaHk2H6Vowbi",
        "outputId": "6667bc01-1eac-4585-80bc-57337a3c7a2d"
      },
      "execution_count": null,
      "outputs": [
        {
          "output_type": "execute_result",
          "data": {
            "text/plain": [
              "<matplotlib.axes._subplots.AxesSubplot at 0x7fb737a19a10>"
            ]
          },
          "metadata": {},
          "execution_count": 64
        },
        {
          "output_type": "display_data",
          "data": {
            "text/plain": [
              "<Figure size 432x288 with 1 Axes>"
            ],
            "image/png": "[encoded data removed]"
          },
          "metadata": {
            "needs_background": "light"
          }
        }
      ]
    },
    {
      "cell_type": "code",
      "source": [
        "#the different types\n",
        "tweet['type'].value_counts()\n",
        "#pie chart \n",
        "plt.pie(tweet['type'].value_counts(), labels=tweet['type'].value_counts().index, autopct='%1.1f%%');\n"
      ],
      "metadata": {
        "colab": {
          "base_uri": "https://localhost:8080/",
          "height": 248
        },
        "id": "qZMFkF32pLjg",
        "outputId": "80b36523-e2c8-436c-b5dc-09fa11f37f42"
      },
      "execution_count": null,
      "outputs": [
        {
          "output_type": "display_data",
          "data": {
            "text/plain": [
              "<Figure size 432x288 with 1 Axes>"
            ],
            "image/png": "[encoded data removed]"
          },
          "metadata": {}
        }
      ]
    },
    {
      "cell_type": "code",
      "source": [
        "#group by year and get only values of type 'movie'\n",
        "tweet_movie=tweet[tweet['type']=='movie']\n",
        "tweet_series=tweet[tweet['type']=='tv']\n",
        "data1=tweet_movie.groupby(tweet['year'])['type'].count()\n",
        "data2=tweet_series.groupby(tweet['year'])['type'].count()\n",
        "#graph for showing the yearly increase in the movies each year\n",
        "# sns.lineplot(x=data.index, y=data)\n",
        "#draw a histogram using data"
      ],
      "metadata": {
        "id": "6GJJ1VdOpUqR"
      },
      "execution_count": null,
      "outputs": []
    },
    {
      "cell_type": "code",
      "source": [
        "#line graphs\n",
        "plt.plot(data1.index, data1.values, color='red', label='Movies')\n",
        "plt.plot(data2.index, data2.values, color='blue', label='Series')\n",
        "plt.legend(loc='upper left')\n",
        "plt.xlabel('Year')\n",
        "plt.ylabel('Number of titles')\n",
        "plt.title('Yearly increase in the number of movies and series')\n",
        "plt.show()"
      ],
      "metadata": {
        "colab": {
          "base_uri": "https://localhost:8080/",
          "height": 295
        },
        "id": "09eyh51dqAWR",
        "outputId": "3fbcf7ac-5f4f-4fc9-90b7-30de6e3cdc6f"
      },
      "execution_count": null,
      "outputs": [
        {
          "output_type": "display_data",
          "data": {
            "text/plain": [
              "<Figure size 432x288 with 1 Axes>"
            ],
            "image/png": "[encoded data removed]"
          },
          "metadata": {
            "needs_background": "light"
          }
        }
      ]
    },
    {
      "cell_type": "code",
      "source": [
        "pip install squarify\n"
      ],
      "metadata": {
        "colab": {
          "base_uri": "https://localhost:8080/"
        },
        "id": "hOJA-0uUqmzB",
        "outputId": "c8800bf5-943a-40bb-9804-613ebca22aea"
      },
      "execution_count": null,
      "outputs": [
        {
          "output_type": "stream",
          "name": "stdout",
          "text": [
            "Looking in indexes: https://pypi.org/simple, https://us-python.pkg.dev/colab-wheels/public/simple/\n",
            "Collecting squarify\n",
            "  Downloading squarify-0.4.3-py3-none-any.whl (4.3 kB)\n",
            "Installing collected packages: squarify\n",
            "Successfully installed squarify-0.4.3\n"
          ]
        }
      ]
    },
    {
      "cell_type": "code",
      "source": [
        "import squarify"
      ],
      "metadata": {
        "id": "QER2nwiPqvx4"
      },
      "execution_count": null,
      "outputs": []
    },
    {
      "cell_type": "code",
      "source": [
        "#top 10 genres in movies\n",
        "data=tweet_movie['genre'].value_counts().sort_values(ascending=False)[:10]\n",
        "#draw treemap\n",
        "plt.figure(figsize=(10,10))\n",
        "plt.title('Top 10 genres in movies')\n",
        "squarify.plot(data,label=data.index, alpha=.8 )\n",
        "plt.show()"
      ],
      "metadata": {
        "colab": {
          "base_uri": "https://localhost:8080/",
          "height": 607
        },
        "id": "4qZ-DU4TqNqZ",
        "outputId": "62fca961-33c5-4c27-83bc-1a1840781b99"
      },
      "execution_count": null,
      "outputs": [
        {
          "output_type": "display_data",
          "data": {
            "text/plain": [
              "<Figure size 720x720 with 1 Axes>"
            ],
            "image/png": "[encoded data removed]"
          },
          "metadata": {
            "needs_background": "light"
          }
        }
      ]
    },
    {
      "cell_type": "code",
      "source": [
        "#draw a pie chart for the top 10 genres in movies\n",
        "plt.pie(data.values, labels=data.index, autopct='%1.1f%%');\n",
        "plt.show()"
      ],
      "metadata": {
        "colab": {
          "base_uri": "https://localhost:8080/",
          "height": 248
        },
        "id": "kCT0iVY-q1dC",
        "outputId": "a176d67e-6bc9-4949-812b-33be6b6e6a68"
      },
      "execution_count": null,
      "outputs": [
        {
          "output_type": "display_data",
          "data": {
            "text/plain": [
              "<Figure size 432x288 with 1 Axes>"
            ],
            "image/png": "[encoded data removed]"
          },
          "metadata": {}
        }
      ]
    },
    {
      "cell_type": "code",
      "source": [
        "#top 10 genres in series\n",
        "data=tweet_series['genre'].value_counts().sort_values(ascending=False)[:10]\n",
        "#draw treemap\n",
        "plt.figure(figsize=(10,10))\n",
        "plt.title('Top 10 genres in series')\n",
        "squarify.plot(data,label=data.index, alpha=.8 )\n",
        "plt.show()"
      ],
      "metadata": {
        "colab": {
          "base_uri": "https://localhost:8080/",
          "height": 607
        },
        "id": "a1aQi_wArFyp",
        "outputId": "9f602802-f16f-4fc0-ea59-47895b6612f5"
      },
      "execution_count": null,
      "outputs": [
        {
          "output_type": "display_data",
          "data": {
            "text/plain": [
              "<Figure size 720x720 with 1 Axes>"
            ],
            "image/png": "[encoded data removed]"
          },
          "metadata": {
            "needs_background": "light"
          }
        }
      ]
    },
    {
      "cell_type": "code",
      "source": [
        "#age rating of movies and tv\n",
        "data=tweet_movie['age_rating'].value_counts().sort_values(ascending=False)[:10]\n",
        "#draw pie chart\n",
        "plt.pie(data.values, labels=data.index, autopct='%1.1f%%');\n",
        "plt.show()"
      ],
      "metadata": {
        "colab": {
          "base_uri": "https://localhost:8080/",
          "height": 248
        },
        "id": "RqaAcxJSrUSD",
        "outputId": "1fb2e6d2-3b74-4619-d627-e6993f15a882"
      },
      "execution_count": null,
      "outputs": [
        {
          "output_type": "display_data",
          "data": {
            "text/plain": [
              "<Figure size 432x288 with 1 Axes>"
            ],
            "image/png": "[encoded data removed]"
          },
          "metadata": {}
        }
      ]
    },
    {
      "cell_type": "code",
      "source": [
        "#age rating of tv\n",
        "data=tweet_series['age_rating'].value_counts().sort_values(ascending=False)[:10]\n",
        "#draw pie chart\n",
        "plt.pie(data.values, labels=data.index, autopct='%1.1f%%');\n",
        "plt.show()"
      ],
      "metadata": {
        "colab": {
          "base_uri": "https://localhost:8080/",
          "height": 248
        },
        "id": "4XmqPsBVrb6q",
        "outputId": "136fe4af-120b-4fb6-e270-04a4f95b0bab"
      },
      "execution_count": null,
      "outputs": [
        {
          "output_type": "display_data",
          "data": {
            "text/plain": [
              "<Figure size 432x288 with 1 Axes>"
            ],
            "image/png": "[encoded data removed]"
          },
          "metadata": {}
        }
      ]
    },
    {
      "cell_type": "markdown",
      "source": [
        "Word cloud"
      ],
      "metadata": {
        "id": "qjsjtiFIh6ih"
      }
    },
    {
      "cell_type": "code",
      "source": [
        "from wordcloud import WordCloud,STOPWORDS\n",
        "stopwords=set(STOPWORDS)"
      ],
      "metadata": {
        "id": "GaFjTePgfQkB"
      },
      "execution_count": null,
      "outputs": []
    },
    {
      "cell_type": "code",
      "source": [
        "print(stopwords)"
      ],
      "metadata": {
        "colab": {
          "base_uri": "https://localhost:8080/"
        },
        "id": "G9Ps-qeTh9sq",
        "outputId": "48a6a8ce-355c-4ea0-8d07-0aa8cb98ab19"
      },
      "execution_count": null,
      "outputs": [
        {
          "output_type": "stream",
          "name": "stdout",
          "text": [
            "{\"they'd\", 'http', 'myself', 'www', 'yourselves', 'were', 'being', 'shall', 'so', 'i', \"when's\", \"isn't\", 'hence', 'very', 'between', 'be', 'when', 'that', 'too', 'what', 'why', 'some', 'r', 'its', \"we've\", 'all', 'own', 'otherwise', \"it's\", 'below', 'did', \"i've\", 'who', 'itself', 'other', \"she's\", 'his', 'have', \"shan't\", 'me', \"that's\", 'by', 'whom', \"we're\", \"you're\", 'or', 'doing', 'having', \"haven't\", 'am', 'like', \"why's\", \"hadn't\", 'during', \"where's\", \"here's\", \"won't\", 'yours', \"aren't\", 'here', 'further', 'which', 'any', 'since', \"they've\", 'my', \"she'd\", 'are', 'into', \"they'll\", 'at', 'does', 'on', 'also', \"how's\", 'few', 'could', 'herself', 'not', 'but', 'k', 'he', 'him', \"hasn't\", \"i'd\", \"they're\", 'can', 'with', 'just', \"he's\", \"you've\", 'has', 'we', \"he'd\", 'to', 'theirs', \"can't\", \"let's\", 'get', 'the', 'out', 'however', 'those', \"you'll\", 'their', \"don't\", 'else', 'nor', 'over', 'both', 'do', 'from', 'cannot', 'would', 'as', 'once', 'our', 'off', \"doesn't\", \"shouldn't\", 'themselves', 'you', 'no', \"he'll\", 'was', 'a', \"we'd\", 'if', \"you'd\", \"wouldn't\", 'each', 'above', 'hers', \"i'm\", 'in', \"couldn't\", 'only', 'about', 'again', 'ever', 'most', \"what's\", 'same', 'how', \"i'll\", 'com', \"she'll\", 'until', 'an', 'after', 'more', 'ourselves', 'these', 'down', 'had', 'and', 'because', 'ours', 'she', 'ought', 'therefore', 'through', \"we'll\", 'been', 'this', 'then', \"weren't\", 'for', 'it', \"wasn't\", \"mustn't\", 'they', 'than', 'them', 'her', \"didn't\", 'of', 'is', 'under', \"there's\", 'should', 'before', 'while', 'against', 'himself', 'your', 'yourself', \"who's\", 'up', 'where', 'there', 'such'}\n"
          ]
        }
      ]
    },
    {
      "cell_type": "code",
      "source": [
        "from PIL import Image\n",
        "import urllib #URL handling module for python\n",
        "import requests #requests module allows you to send HTTP requests using Python"
      ],
      "metadata": {
        "id": "QRyl0PsljInt"
      },
      "execution_count": null,
      "outputs": []
    },
    {
      "cell_type": "code",
      "source": [
        "text = str(tweet.genre.tolist()) ##returns list of words/values\n",
        "mask = np.array(Image.open(requests.get('https://image.shutterstock.com/image-vector/star-vector-icon-600w-660000226.jpg', stream=True).raw))\n",
        "\n",
        "# This function takes in your text and your mask and generates a wordcloud. \n",
        "def generate_wordcloud(mask):\n",
        "    word_cloud = WordCloud( background_color='white', stopwords=stopwords, mask=mask)\n",
        "    word_cloud.generate(text)\n",
        "    plt.figure(figsize=(10,8),facecolor = 'white', edgecolor='blue')\n",
        "    plt.imshow(word_cloud)\n",
        "    plt.axis('off')\n",
        "    plt.tight_layout(pad=0)\n",
        "    plt.show()\n",
        "    \n",
        "#Run the following to generate your wordcloud\n",
        "generate_wordcloud(mask)"
      ],
      "metadata": {
        "colab": {
          "base_uri": "https://localhost:8080/",
          "height": 607
        },
        "id": "BJ1-mkfeiK6D",
        "outputId": "d3913648-c205-46dd-def2-d3397f792e20"
      },
      "execution_count": null,
      "outputs": [
        {
          "output_type": "display_data",
          "data": {
            "text/plain": [
              "<Figure size 720x576 with 1 Axes>"
            ],
            "image/png": "[encoded data removed]"
          },
          "metadata": {}
        }
      ]
    },
    {
      "cell_type": "markdown",
      "source": [
        "# References\n",
        "https://www.kaggle.com/code/yoohtony/genre-analysis\n",
        "\n",
        "https://icon-library.com/images/movie-icon-images/movie-icon-images-28.jpg\n",
        "\n",
        "https://www.holisticseo.digital/python-seo/word-cloud/\n",
        "\n",
        "https://www.analyticsvidhya.com/blog/2021/06/twitter-sentiment-analysis-a-nlp-use-case-for-beginners/\n",
        "\n",
        "https://image.shutterstock.com/image-vector/star-vector-icon-600w-660000226.jpg\n"
      ],
      "metadata": {
        "id": "JiUAHhIvrqll"
      }
    }
  ]
}